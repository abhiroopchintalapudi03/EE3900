{
  "nbformat": 4,
  "nbformat_minor": 0,
  "metadata": {
    "colab": {
      "name": "QUIZ-1 que.ipynb",
      "provenance": []
    },
    "kernelspec": {
      "name": "python3",
      "display_name": "Python 3"
    },
    "language_info": {
      "name": "python"
    }
  },
  "cells": [
    {
      "cell_type": "code",
      "metadata": {
        "id": "kiGo_UtoDHjm"
      },
      "source": [
        "import numpy as np\n",
        "from matplotlib import pyplot as plt\n"
      ],
      "execution_count": 22,
      "outputs": []
    },
    {
      "cell_type": "code",
      "metadata": {
        "colab": {
          "base_uri": "https://localhost:8080/",
          "height": 295
        },
        "id": "t0gYgSBbCuFn",
        "outputId": "2387d520-8296-443e-f2d3-264559c32524"
      },
      "source": [
        "t = np.linspace(0, 5, 1000)\n",
        "x = [-1,0,1,2,3,4,5,6]\n",
        "y = [0,1,1,1,1,-2,-2,0]\n",
        "plt.xlabel('n');\n",
        "plt.ylabel('h[n]');\n",
        "plt.scatter(x, y, marker= \".\", s=30)\n",
        "plt.title('Plot of impulse response');\n",
        "plt.show()"
      ],
      "execution_count": 24,
      "outputs": [
        {
          "output_type": "display_data",
          "data": {
            "image/png": "[encoded data removed]",
            "text/plain": [
              "<Figure size 432x288 with 1 Axes>"
            ]
          },
          "metadata": {
            "needs_background": "light"
          }
        }
      ]
    }
  ]
}