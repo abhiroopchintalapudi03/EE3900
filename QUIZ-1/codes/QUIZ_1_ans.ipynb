{
  "nbformat": 4,
  "nbformat_minor": 0,
  "metadata": {
    "colab": {
      "name": "QUIZ-1 ans.ipynb",
      "provenance": []
    },
    "kernelspec": {
      "name": "python3",
      "display_name": "Python 3"
    },
    "language_info": {
      "name": "python"
    }
  },
  "cells": [
    {
      "cell_type": "code",
      "metadata": {
        "id": "kiGo_UtoDHjm"
      },
      "source": [
        "import numpy as np\n",
        "from matplotlib import pyplot as plt\n"
      ],
      "execution_count": 22,
      "outputs": []
    },
    {
      "cell_type": "code",
      "metadata": {
        "colab": {
          "base_uri": "https://localhost:8080/",
          "height": 295
        },
        "id": "t0gYgSBbCuFn",
        "outputId": "f0d21e5a-dddc-43d2-8086-c7f06baee4a9"
      },
      "source": [
        "t = np.linspace(0, 5, 1000)\n",
        "x = [3,4,5,6,7,8,9,10,11]\n",
        "y = [0,0,-1,-2,-3,-4,-2,0,0]\n",
        "plt.xlabel('x[n]');\n",
        "plt.ylabel('y[n]');\n",
        "plt.scatter(x, y, marker= \".\", s=30)\n",
        "plt.title('Plot of output');\n",
        "plt.show()"
      ],
      "execution_count": 28,
      "outputs": [
        {
          "output_type": "display_data",
          "data": {
            "image/png": "[encoded data removed]",
            "text/plain": [
              "<Figure size 432x288 with 1 Axes>"
            ]
          },
          "metadata": {
            "needs_background": "light"
          }
        }
      ]
    }
  ]
}